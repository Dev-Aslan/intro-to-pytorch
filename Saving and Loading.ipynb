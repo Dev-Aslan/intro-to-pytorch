{
 "cells": [
  {
   "cell_type": "code",
   "execution_count": 1,
   "metadata": {},
   "outputs": [],
   "source": [
    "import torch\n",
    "from torchvision import datasets, transforms\n",
    "import torch.nn.functional as F\n",
    "from torch import nn,optim\n",
    "%matplotlib inline\n",
    "%config InlineBackend.figure_format = 'retina'\n",
    "\n",
    "import helper\n",
    "import fc_model\n"
   ]
  },
  {
   "cell_type": "code",
   "execution_count": 2,
   "metadata": {},
   "outputs": [],
   "source": [
    "import torch\n",
    "from torchvision import datasets, transforms\n",
    "\n",
    "# Define a transform to normalize the data\n",
    "transform = transforms.Compose([transforms.ToTensor(),\n",
    "                                transforms.Normalize((0.5,), (0.5,))])\n",
    "# Download and load the training data\n",
    "trainset = datasets.FashionMNIST('~/.pytorch/F_MNIST_data/', download=True, train=True, transform=transform)\n",
    "trainloader = torch.utils.data.DataLoader(trainset, batch_size=64, shuffle=True)\n",
    "\n",
    "# Download and load the test data\n",
    "testset = datasets.FashionMNIST('~/.pytorch/F_MNIST_data/', download=True, train=False, transform=transform)\n",
    "testloader = torch.utils.data.DataLoader(testset, batch_size=64, shuffle=True)"
   ]
  },
  {
   "cell_type": "code",
   "execution_count": 6,
   "metadata": {},
   "outputs": [],
   "source": [
    "model = fc_model.Network(784,10,[512,256,128])\n",
    "criterion = nn.NLLLoss()\n",
    "optimizer = optim.Adam(model.parameters(),lr = 0.001)"
   ]
  },
  {
   "cell_type": "code",
   "execution_count": 8,
   "metadata": {},
   "outputs": [
    {
     "name": "stdout",
     "output_type": "stream",
     "text": [
      "Epoch: 1/2..  Training Loss: 0.512..  Test Loss: 0.468..  Test Accuracy: 0.825\n",
      "Epoch: 1/2..  Training Loss: 0.516..  Test Loss: 0.450..  Test Accuracy: 0.837\n",
      "Epoch: 1/2..  Training Loss: 0.479..  Test Loss: 0.439..  Test Accuracy: 0.839\n",
      "Epoch: 1/2..  Training Loss: 0.498..  Test Loss: 0.476..  Test Accuracy: 0.828\n",
      "Epoch: 1/2..  Training Loss: 0.546..  Test Loss: 0.466..  Test Accuracy: 0.830\n",
      "Epoch: 1/2..  Training Loss: 0.566..  Test Loss: 0.456..  Test Accuracy: 0.828\n",
      "Epoch: 1/2..  Training Loss: 0.531..  Test Loss: 0.453..  Test Accuracy: 0.840\n",
      "Epoch: 1/2..  Training Loss: 0.501..  Test Loss: 0.446..  Test Accuracy: 0.838\n",
      "Epoch: 1/2..  Training Loss: 0.519..  Test Loss: 0.454..  Test Accuracy: 0.830\n",
      "Epoch: 1/2..  Training Loss: 0.493..  Test Loss: 0.427..  Test Accuracy: 0.842\n",
      "Epoch: 1/2..  Training Loss: 0.493..  Test Loss: 0.436..  Test Accuracy: 0.844\n",
      "Epoch: 1/2..  Training Loss: 0.518..  Test Loss: 0.429..  Test Accuracy: 0.843\n",
      "Epoch: 1/2..  Training Loss: 0.509..  Test Loss: 0.433..  Test Accuracy: 0.839\n",
      "Epoch: 1/2..  Training Loss: 0.495..  Test Loss: 0.442..  Test Accuracy: 0.843\n",
      "Epoch: 1/2..  Training Loss: 0.508..  Test Loss: 0.452..  Test Accuracy: 0.836\n",
      "Epoch: 1/2..  Training Loss: 0.482..  Test Loss: 0.449..  Test Accuracy: 0.836\n",
      "Epoch: 1/2..  Training Loss: 0.503..  Test Loss: 0.444..  Test Accuracy: 0.841\n",
      "Epoch: 1/2..  Training Loss: 0.530..  Test Loss: 0.442..  Test Accuracy: 0.835\n",
      "Epoch: 1/2..  Training Loss: 0.545..  Test Loss: 0.437..  Test Accuracy: 0.841\n",
      "Epoch: 1/2..  Training Loss: 0.491..  Test Loss: 0.435..  Test Accuracy: 0.839\n",
      "Epoch: 1/2..  Training Loss: 0.495..  Test Loss: 0.433..  Test Accuracy: 0.841\n",
      "Epoch: 1/2..  Training Loss: 0.534..  Test Loss: 0.448..  Test Accuracy: 0.833\n",
      "Epoch: 1/2..  Training Loss: 0.516..  Test Loss: 0.433..  Test Accuracy: 0.842\n",
      "Epoch: 2/2..  Training Loss: 0.475..  Test Loss: 0.430..  Test Accuracy: 0.841\n",
      "Epoch: 2/2..  Training Loss: 0.457..  Test Loss: 0.425..  Test Accuracy: 0.841\n",
      "Epoch: 2/2..  Training Loss: 0.516..  Test Loss: 0.428..  Test Accuracy: 0.842\n",
      "Epoch: 2/2..  Training Loss: 0.505..  Test Loss: 0.435..  Test Accuracy: 0.841\n",
      "Epoch: 2/2..  Training Loss: 0.436..  Test Loss: 0.430..  Test Accuracy: 0.840\n",
      "Epoch: 2/2..  Training Loss: 0.476..  Test Loss: 0.426..  Test Accuracy: 0.844\n",
      "Epoch: 2/2..  Training Loss: 0.463..  Test Loss: 0.437..  Test Accuracy: 0.842\n",
      "Epoch: 2/2..  Training Loss: 0.507..  Test Loss: 0.433..  Test Accuracy: 0.833\n",
      "Epoch: 2/2..  Training Loss: 0.460..  Test Loss: 0.423..  Test Accuracy: 0.841\n",
      "Epoch: 2/2..  Training Loss: 0.510..  Test Loss: 0.421..  Test Accuracy: 0.848\n",
      "Epoch: 2/2..  Training Loss: 0.507..  Test Loss: 0.420..  Test Accuracy: 0.850\n",
      "Epoch: 2/2..  Training Loss: 0.480..  Test Loss: 0.419..  Test Accuracy: 0.845\n",
      "Epoch: 2/2..  Training Loss: 0.520..  Test Loss: 0.419..  Test Accuracy: 0.851\n",
      "Epoch: 2/2..  Training Loss: 0.479..  Test Loss: 0.419..  Test Accuracy: 0.849\n",
      "Epoch: 2/2..  Training Loss: 0.479..  Test Loss: 0.426..  Test Accuracy: 0.851\n",
      "Epoch: 2/2..  Training Loss: 0.501..  Test Loss: 0.427..  Test Accuracy: 0.848\n",
      "Epoch: 2/2..  Training Loss: 0.448..  Test Loss: 0.420..  Test Accuracy: 0.850\n",
      "Epoch: 2/2..  Training Loss: 0.461..  Test Loss: 0.427..  Test Accuracy: 0.843\n",
      "Epoch: 2/2..  Training Loss: 0.477..  Test Loss: 0.419..  Test Accuracy: 0.844\n",
      "Epoch: 2/2..  Training Loss: 0.466..  Test Loss: 0.425..  Test Accuracy: 0.846\n",
      "Epoch: 2/2..  Training Loss: 0.493..  Test Loss: 0.415..  Test Accuracy: 0.844\n",
      "Epoch: 2/2..  Training Loss: 0.490..  Test Loss: 0.419..  Test Accuracy: 0.840\n",
      "Epoch: 2/2..  Training Loss: 0.485..  Test Loss: 0.421..  Test Accuracy: 0.850\n"
     ]
    }
   ],
   "source": [
    "fc_model.train(model,trainloader,testloader,criterion,optimizer,epochs=20)"
   ]
  },
  {
   "cell_type": "code",
   "execution_count": 14,
   "metadata": {},
   "outputs": [
    {
     "name": "stdout",
     "output_type": "stream",
     "text": [
      "Our model: Network(\n",
      "  (hidden_layers): ModuleList(\n",
      "    (0): Linear(in_features=784, out_features=512, bias=True)\n",
      "    (1): Linear(in_features=512, out_features=256, bias=True)\n",
      "    (2): Linear(in_features=256, out_features=128, bias=True)\n",
      "  )\n",
      "  (output): Linear(in_features=128, out_features=10, bias=True)\n",
      "  (dropout): Dropout(p=0.5, inplace=False)\n",
      ")\n",
      "The state dic keys:\n",
      "\n",
      " odict_keys(['hidden_layers.0.weight', 'hidden_layers.0.bias', 'hidden_layers.1.weight', 'hidden_layers.1.bias', 'hidden_layers.2.weight', 'hidden_layers.2.bias', 'output.weight', 'output.bias'])\n"
     ]
    }
   ],
   "source": [
    "print(\"Our model:\",model)\n",
    "print(\"The state dic keys:\\n\\n\",model.state_dict().keys())"
   ]
  },
  {
   "cell_type": "code",
   "execution_count": 16,
   "metadata": {},
   "outputs": [],
   "source": [
    "torch.save(model.state_dict(),'checkpoint.pth')"
   ]
  },
  {
   "cell_type": "code",
   "execution_count": 23,
   "metadata": {},
   "outputs": [
    {
     "name": "stdout",
     "output_type": "stream",
     "text": [
      "odict_keys(['hidden_layers.0.weight', 'hidden_layers.0.bias', 'hidden_layers.1.weight', 'hidden_layers.1.bias', 'hidden_layers.2.weight', 'hidden_layers.2.bias', 'output.weight', 'output.bias'])\n"
     ]
    },
    {
     "data": {
      "text/plain": [
       "<All keys matched successfully>"
      ]
     },
     "execution_count": 23,
     "metadata": {},
     "output_type": "execute_result"
    }
   ],
   "source": [
    "state_dict = torch.load('checkpoint.pth')\n",
    "print(state_dict.keys())\n",
    "\n",
    "model.load_state_dict(state_dict)"
   ]
  },
  {
   "cell_type": "markdown",
   "metadata": {},
   "source": [
    "model = fc_model.Network()"
   ]
  },
  {
   "cell_type": "code",
   "execution_count": 29,
   "metadata": {},
   "outputs": [],
   "source": [
    "checkpoint = {'input_size':784,\n",
    "             'output_size':10,\n",
    "             'hidden_layers':[each.out_features for each in model.hidden_layers],\n",
    "              'state_dict':model.state_dict()                \n",
    "             }\n",
    "torch.save(checkpoint,'checkpoint.pth')"
   ]
  },
  {
   "cell_type": "code",
   "execution_count": 30,
   "metadata": {},
   "outputs": [],
   "source": [
    "def load_checkpoint(filepath):\n",
    "    checkpoint = torch.load(filepath)\n",
    "    model = fc_model.Network(checkpoint['input_size'],\n",
    "                             checkpoint['output_size'],\n",
    "                             checkpoint['hidden_layers'])\n",
    "    model.load_state_dict(checkpoint['state_dict'])\n",
    "    \n",
    "    return model"
   ]
  },
  {
   "cell_type": "code",
   "execution_count": 31,
   "metadata": {},
   "outputs": [
    {
     "name": "stdout",
     "output_type": "stream",
     "text": [
      "Network(\n",
      "  (hidden_layers): ModuleList(\n",
      "    (0): Linear(in_features=784, out_features=512, bias=True)\n",
      "    (1): Linear(in_features=512, out_features=256, bias=True)\n",
      "    (2): Linear(in_features=256, out_features=128, bias=True)\n",
      "  )\n",
      "  (output): Linear(in_features=128, out_features=10, bias=True)\n",
      "  (dropout): Dropout(p=0.5, inplace=False)\n",
      ")\n"
     ]
    }
   ],
   "source": [
    "model = load_checkpoint('checkpoint.pth')\n",
    "print(model)"
   ]
  }
 ],
 "metadata": {
  "kernelspec": {
   "display_name": "Python 3",
   "language": "python",
   "name": "python3"
  },
  "language_info": {
   "codemirror_mode": {
    "name": "ipython",
    "version": 3
   },
   "file_extension": ".py",
   "mimetype": "text/x-python",
   "name": "python",
   "nbconvert_exporter": "python",
   "pygments_lexer": "ipython3",
   "version": "3.7.4"
  }
 },
 "nbformat": 4,
 "nbformat_minor": 2
}
