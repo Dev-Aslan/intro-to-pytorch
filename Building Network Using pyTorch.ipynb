{
 "cells": [
  {
   "cell_type": "code",
   "execution_count": 37,
   "metadata": {},
   "outputs": [],
   "source": [
    "# Import necessary packages\n",
    "\n",
    "%matplotlib inline\n",
    "%config InlineBackend.figure_format = 'retina'\n",
    "\n",
    "import numpy as np\n",
    "import torch\n",
    "\n",
    "import helper\n",
    "\n",
    "import matplotlib.pyplot as plt"
   ]
  },
  {
   "cell_type": "code",
   "execution_count": 38,
   "metadata": {},
   "outputs": [],
   "source": [
    "### Run this cell\n",
    "\n",
    "from torchvision import datasets, transforms\n",
    "\n",
    "# Define a transform to normalize the data\n",
    "transform = transforms.Compose([transforms.ToTensor(),\n",
    "                              transforms.Normalize((0.5,), (0.5,)),\n",
    "                              ])\n",
    "# Download and load the training data\n",
    "trainset = datasets.MNIST('~/.pytorch/MNIST_data/', download=True, train=True, transform=transform)\n",
    "trainloader = torch.utils.data.DataLoader(trainset, batch_size=64, shuffle=True)"
   ]
  },
  {
   "cell_type": "code",
   "execution_count": null,
   "metadata": {},
   "outputs": [],
   "source": []
  },
  {
   "cell_type": "code",
   "execution_count": 59,
   "metadata": {},
   "outputs": [
    {
     "name": "stdout",
     "output_type": "stream",
     "text": [
      "<class 'torch.Tensor'>\n",
      "torch.Size([64, 1, 28, 28])\n",
      "torch.Size([64])\n",
      "64\n"
     ]
    }
   ],
   "source": [
    "dataiter = iter(trainloader)\n",
    "images, labels = dataiter.next()\n",
    "\n",
    "print(type(images))\n",
    "print(images.shape)\n",
    "print(labels.shape)\n",
    "print(len(images))"
   ]
  },
  {
   "cell_type": "code",
   "execution_count": null,
   "metadata": {},
   "outputs": [],
   "source": [
    "plt.imshow(images[2].numpy().squeeze(), cmap='Greys_r');"
   ]
  },
  {
   "cell_type": "code",
   "execution_count": 1,
   "metadata": {},
   "outputs": [],
   "source": [
    "from torch import nn\n",
    "class Network(nn.Module):\n",
    "    def __init__(self):\n",
    "        super().__init__()\n",
    "        self.hidden = nn.Linear(784,256)\n",
    "        self.output = nn.Linear(256,10)\n",
    "        \n",
    "        self.sigmoid = nn.Sigmoid()\n",
    "        self.softmax = nn.Softmax(dim=1)\n",
    "    def forward(self,x):\n",
    "        x = self.hidden(x)\n",
    "        x = self.sigmoid(x)\n",
    "        x = self.output(x)\n",
    "        x = self.softmax(x)\n",
    "        \n",
    "        return x"
   ]
  },
  {
   "cell_type": "code",
   "execution_count": 2,
   "metadata": {},
   "outputs": [
    {
     "data": {
      "text/plain": [
       "Network(\n",
       "  (hidden): Linear(in_features=784, out_features=256, bias=True)\n",
       "  (output): Linear(in_features=256, out_features=10, bias=True)\n",
       "  (sigmoid): Sigmoid()\n",
       "  (softmax): Softmax(dim=1)\n",
       ")"
      ]
     },
     "execution_count": 2,
     "metadata": {},
     "output_type": "execute_result"
    }
   ],
   "source": [
    "model = Network()\n",
    "model"
   ]
  },
  {
   "cell_type": "code",
   "execution_count": 6,
   "metadata": {},
   "outputs": [],
   "source": [
    "import torch.nn.functional as F\n",
    "\n",
    "class Network1(nn.Module):\n",
    "    def __init__(self):\n",
    "        super().__init__()\n",
    "        self.hidden = nn.Linear(784,256)\n",
    "        self.output = nn.Linear(256,10)\n",
    "    def forward(self,x):\n",
    "        x = F.sigmoid(self.hidden(x))\n",
    "        x = F.softmax(self.output(x))\n",
    "        return x"
   ]
  },
  {
   "cell_type": "code",
   "execution_count": 7,
   "metadata": {},
   "outputs": [
    {
     "data": {
      "text/plain": [
       "Network1(\n",
       "  (hidden): Linear(in_features=784, out_features=256, bias=True)\n",
       "  (output): Linear(in_features=256, out_features=10, bias=True)\n",
       ")"
      ]
     },
     "execution_count": 7,
     "metadata": {},
     "output_type": "execute_result"
    }
   ],
   "source": [
    "model1 = Network1()\n",
    "model1"
   ]
  },
  {
   "cell_type": "code",
   "execution_count": 64,
   "metadata": {},
   "outputs": [],
   "source": [
    "import torch.nn.functional as F\n",
    "\n",
    "class Network2(nn.Module):\n",
    "    def __init__(self):\n",
    "        super().__init__()\n",
    "        self.fc1= nn.Linear(784,128)\n",
    "        self.fc2 = nn.Linear(128,64)\n",
    "        self.fc3 = nn.Linear(64,10)\n",
    "    def forward(self,x):\n",
    "        x = F.relu(self.fc1(x))\n",
    "        x = F.relu(self.fc2(x))\n",
    "        x = F.softmax(self.fc3(x),dim=1)\n",
    "        \n",
    "        return x\n",
    "        "
   ]
  },
  {
   "cell_type": "code",
   "execution_count": 69,
   "metadata": {},
   "outputs": [
    {
     "name": "stdout",
     "output_type": "stream",
     "text": [
      "[[-0.00754987 -0.02191366  0.0153641  ... -0.03351698 -0.02265961\n",
      "   0.02685767]\n",
      " [-0.00679231  0.01288598  0.02971959 ...  0.00254955 -0.03549431\n",
      "   0.03088646]\n",
      " [ 0.01582784  0.01193036 -0.02877589 ... -0.00824648  0.0199483\n",
      "  -0.02122773]\n",
      " ...\n",
      " [ 0.02766314  0.00016049 -0.01537148 ...  0.01108758  0.02715755\n",
      "   0.02675855]\n",
      " [-0.03061332  0.01367991  0.03406054 ... -0.00522605 -0.01203241\n",
      "  -0.02300664]\n",
      " [-0.01126921  0.00905352 -0.01473247 ...  0.0203185   0.02325561\n",
      "   0.01302622]]\n",
      "Parameter containing:\n",
      "tensor([ 0.0022,  0.0187,  0.0343,  0.0044,  0.0275,  0.0007,  0.0054, -0.0300,\n",
      "        -0.0081, -0.0296, -0.0296, -0.0337,  0.0196, -0.0075,  0.0113, -0.0211,\n",
      "        -0.0036, -0.0337, -0.0187,  0.0015,  0.0229,  0.0337, -0.0138, -0.0207,\n",
      "        -0.0189, -0.0336, -0.0138,  0.0139, -0.0237,  0.0134, -0.0280, -0.0351,\n",
      "         0.0244,  0.0045, -0.0238, -0.0030,  0.0122, -0.0113,  0.0332,  0.0288,\n",
      "        -0.0299, -0.0262, -0.0143, -0.0192, -0.0023, -0.0309,  0.0090,  0.0081,\n",
      "        -0.0041, -0.0052,  0.0147,  0.0206,  0.0309, -0.0066,  0.0136,  0.0053,\n",
      "         0.0267, -0.0139,  0.0330,  0.0168,  0.0104,  0.0238, -0.0078, -0.0162,\n",
      "        -0.0337, -0.0056, -0.0016,  0.0291, -0.0018,  0.0294, -0.0166, -0.0076,\n",
      "        -0.0078, -0.0103, -0.0217, -0.0010,  0.0295, -0.0213, -0.0109, -0.0059,\n",
      "        -0.0300, -0.0168,  0.0232, -0.0211, -0.0187, -0.0033,  0.0119,  0.0208,\n",
      "        -0.0048, -0.0158, -0.0133,  0.0185,  0.0162, -0.0146, -0.0082, -0.0264,\n",
      "        -0.0032, -0.0264,  0.0120, -0.0118, -0.0033,  0.0183,  0.0274,  0.0009,\n",
      "        -0.0112, -0.0332, -0.0213, -0.0352, -0.0256, -0.0038, -0.0126, -0.0005,\n",
      "         0.0341, -0.0265,  0.0257,  0.0033, -0.0173,  0.0300,  0.0235, -0.0337,\n",
      "         0.0005, -0.0054,  0.0060,  0.0112,  0.0118,  0.0092,  0.0174, -0.0356],\n",
      "       requires_grad=True)\n"
     ]
    }
   ],
   "source": [
    "model2 = Network2()\n",
    "print(model2.fc1.weight.detach().numpy())\n",
    "print(model2.fc1.bias)"
   ]
  },
  {
   "cell_type": "markdown",
   "metadata": {},
   "source": [
    "mo"
   ]
  },
  {
   "cell_type": "code",
   "execution_count": 34,
   "metadata": {},
   "outputs": [
    {
     "data": {
      "text/plain": [
       "tensor([0., 0., 0., 0., 0., 0., 0., 0., 0., 0., 0., 0., 0., 0., 0., 0., 0., 0., 0., 0., 0., 0., 0., 0.,\n",
       "        0., 0., 0., 0., 0., 0., 0., 0., 0., 0., 0., 0., 0., 0., 0., 0., 0., 0., 0., 0., 0., 0., 0., 0.,\n",
       "        0., 0., 0., 0., 0., 0., 0., 0., 0., 0., 0., 0., 0., 0., 0., 0., 0., 0., 0., 0., 0., 0., 0., 0.,\n",
       "        0., 0., 0., 0., 0., 0., 0., 0., 0., 0., 0., 0., 0., 0., 0., 0., 0., 0., 0., 0., 0., 0., 0., 0.,\n",
       "        0., 0., 0., 0., 0., 0., 0., 0., 0., 0., 0., 0., 0., 0., 0., 0., 0., 0., 0., 0., 0., 0., 0., 0.,\n",
       "        0., 0., 0., 0., 0., 0., 0., 0.])"
      ]
     },
     "execution_count": 34,
     "metadata": {},
     "output_type": "execute_result"
    }
   ],
   "source": [
    "#set biases to all zeroes\n",
    "model2.fc1.bias.data.fill_(0)"
   ]
  },
  {
   "cell_type": "markdown",
   "metadata": {},
   "source": []
  },
  {
   "cell_type": "code",
   "execution_count": 35,
   "metadata": {},
   "outputs": [
    {
     "data": {
      "text/plain": [
       "tensor([[-1.4949e-02,  1.3150e-02, -3.2357e-03,  ...,  2.6191e-02,\n",
       "          9.3437e-03, -7.0951e-05],\n",
       "        [-8.3628e-03,  8.3812e-03, -1.0214e-02,  ...,  6.3867e-03,\n",
       "          3.7835e-03,  3.7350e-03],\n",
       "        [-8.2156e-03,  1.0222e-03, -1.9290e-03,  ..., -8.3842e-03,\n",
       "          4.2214e-03,  1.0116e-02],\n",
       "        ...,\n",
       "        [ 5.4522e-03, -1.5508e-02,  1.7721e-03,  ..., -1.2724e-02,\n",
       "         -3.6850e-03,  9.7064e-03],\n",
       "        [-9.2571e-03,  6.7168e-04, -8.4189e-03,  ..., -7.3004e-03,\n",
       "          3.4611e-03,  4.0836e-03],\n",
       "        [-1.6930e-02,  7.4323e-03, -8.0350e-03,  ..., -1.4081e-02,\n",
       "          6.6510e-03,  1.1152e-02]])"
      ]
     },
     "execution_count": 35,
     "metadata": {},
     "output_type": "execute_result"
    }
   ],
   "source": [
    "#sample from random normal with standard dev 0.01\n",
    "model2.fc1.weight.data.normal_(std=0.01)"
   ]
  },
  {
   "cell_type": "code",
   "execution_count": null,
   "metadata": {},
   "outputs": [],
   "source": []
  },
  {
   "cell_type": "code",
   "execution_count": 52,
   "metadata": {},
   "outputs": [
    {
     "data": {
      "image/png": "[encoded data removed]",
      "text/plain": [
       "<Figure size 432x648 with 2 Axes>"
      ]
     },
     "metadata": {
      "image/png": {
       "height": 235,
       "width": 424
      },
      "needs_background": "light"
     },
     "output_type": "display_data"
    }
   ],
   "source": [
    "# Grab some data \n",
    "dataiter = iter(trainloader)\n",
    "#Resize image into 1D vector\n",
    "images.resize_(64,1,784)\n",
    "#Forward pass through the network\n",
    "img_idx = 0\n",
    "ps = model2.forward(images[img_idx,:])\n",
    "img = images[img_idx]\n",
    "helper.view_classify(img.view(1,28,28),ps)"
   ]
  },
  {
   "cell_type": "raw",
   "metadata": {},
   "source": [
    "Now we need to train it.."
   ]
  },
  {
   "cell_type": "code",
   "execution_count": 55,
   "metadata": {},
   "outputs": [
    {
     "name": "stdout",
     "output_type": "stream",
     "text": [
      "Sequential(\n",
      "  (0): Linear(in_features=784, out_features=128, bias=True)\n",
      "  (1): ReLU()\n",
      "  (2): Linear(in_features=128, out_features=64, bias=True)\n",
      "  (3): ReLU()\n",
      "  (4): Linear(in_features=64, out_features=10, bias=True)\n",
      "  (5): Softmax(dim=1)\n",
      ")\n"
     ]
    },
    {
     "data": {
      "image/png": "[encoded data removed]",
      "text/plain": [
       "<Figure size 432x648 with 2 Axes>"
      ]
     },
     "metadata": {
      "image/png": {
       "height": 235,
       "width": 424
      },
      "needs_background": "light"
     },
     "output_type": "display_data"
    }
   ],
   "source": [
    "#Hyperparameter for aur network\n",
    "input_size = 784\n",
    "hidden_size = [128,64]\n",
    "output_size = 10\n",
    "\n",
    "#Build a feed _forward network\n",
    "model = nn.Sequential(nn.Linear(input_size,hidden_size[0]),\n",
    "                    nn.ReLU(),\n",
    "                    nn.Linear(hidden_size[0],hidden_size[1]),\n",
    "                    nn.ReLU(),\n",
    "                    nn.Linear(hidden_size[1],output_size),\n",
    "                    nn.Softmax(dim=1))\n",
    "print(model)\n",
    "\n",
    "#forward pass through the network and display output\n",
    "images,labels = next(iter(trainloader))\n",
    "images.resize_(64,1,784)\n",
    "ps = model2.forward(images[img_idx,:])\n",
    "img = images[img_idx]\n",
    "helper.view_classify(img.view(1,28,28),ps)\n",
    "\n"
   ]
  },
  {
   "cell_type": "markdown",
   "metadata": {},
   "source": [
    "# Training Neural Network\n"
   ]
  },
  {
   "cell_type": "code",
   "execution_count": 57,
   "metadata": {},
   "outputs": [
    {
     "data": {
      "text/plain": [
       "Sequential(\n",
       "  (0): Linear(in_features=784, out_features=128, bias=True)\n",
       "  (1): ReLU()\n",
       "  (2): Linear(in_features=128, out_features=64, bias=True)\n",
       "  (3): ReLU()\n",
       "  (4): Linear(in_features=64, out_features=10, bias=True)\n",
       ")"
      ]
     },
     "execution_count": 57,
     "metadata": {},
     "output_type": "execute_result"
    }
   ],
   "source": [
    "\n"
   ]
  }
 ],
 "metadata": {
  "kernelspec": {
   "display_name": "Python 3",
   "language": "python",
   "name": "python3"
  },
  "language_info": {
   "codemirror_mode": {
    "name": "ipython",
    "version": 3
   },
   "file_extension": ".py",
   "mimetype": "text/x-python",
   "name": "python",
   "nbconvert_exporter": "python",
   "pygments_lexer": "ipython3",
   "version": "3.7.4"
  }
 },
 "nbformat": 4,
 "nbformat_minor": 2
}
