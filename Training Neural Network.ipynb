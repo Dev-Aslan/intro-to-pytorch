{
 "cells": [
  {
   "cell_type": "code",
   "execution_count": 25,
   "metadata": {},
   "outputs": [],
   "source": [
    "# Import necessary packages\n",
    "\n",
    "%matplotlib inline\n",
    "%config InlineBackend.figure_format = 'retina'\n",
    "\n",
    "import numpy as np\n",
    "import torch\n",
    "from torch import nn\n",
    "import torch.nn.functional as F\n",
    "\n",
    "import helper\n",
    "\n",
    "import matplotlib.pyplot as plt"
   ]
  },
  {
   "cell_type": "code",
   "execution_count": 26,
   "metadata": {},
   "outputs": [],
   "source": [
    "### Run this cell\n",
    "\n",
    "from torchvision import datasets, transforms\n",
    "\n",
    "# Define a transform to normalize the data\n",
    "transform = transforms.Compose([transforms.ToTensor(),\n",
    "                              transforms.Normalize((0.5,), (0.5,)),\n",
    "                              ])\n",
    "# Download and load the training data\n",
    "trainset = datasets.MNIST('~/.pytorch/MNIST_data/', download=True, train=True, transform=transform)\n",
    "trainloader = torch.utils.data.DataLoader(trainset, batch_size=64, shuffle=True)"
   ]
  },
  {
   "cell_type": "code",
   "execution_count": 41,
   "metadata": {},
   "outputs": [
    {
     "name": "stdout",
     "output_type": "stream",
     "text": [
      "torch.Size([64, 10])\n",
      "---------------\n",
      "torch.Size([64])\n",
      "tensor(2.2990, grad_fn=<NllLossBackward>)\n"
     ]
    }
   ],
   "source": [
    "model1= nn.Sequential(nn.Linear(784,128),\n",
    "                    nn.ReLU(),\n",
    "                    nn.Linear(128,64),\n",
    "                    nn.ReLU(),\n",
    "                    nn.Linear(64,10),\n",
    "                   )\n",
    "#Define loss\n",
    "criterion = nn.CrossEntropyLoss()\n",
    "\n",
    "images,labels = next(iter(trainloader))\n",
    "\n",
    "#Flatten the image\n",
    "images = images.view(images.shape[0],-1)\n",
    "\n",
    "#fprward pass our network and get logits\n",
    "logits = model1(images)\n",
    "\n",
    "#calculate the loss\n",
    "loss = criterion(logits,labels)\n",
    "print(logits.shape)\n",
    "print(\"---------------\")\n",
    "print(labels.shape)\n",
    "print(loss)"
   ]
  },
  {
   "cell_type": "code",
   "execution_count": 43,
   "metadata": {},
   "outputs": [
    {
     "name": "stdout",
     "output_type": "stream",
     "text": [
      "torch.Size([64, 10])\n",
      "---------------\n",
      "torch.Size([64])\n",
      "tensor(2.3071, grad_fn=<NllLossBackward>)\n"
     ]
    }
   ],
   "source": [
    "model = nn.Sequential(nn.Linear(784,128),\n",
    "                    nn.ReLU(),\n",
    "                    nn.Linear(128,64),\n",
    "                    nn.ReLU(),\n",
    "                    nn.Linear(64,10),\n",
    "                    nn.LogSoftmax(dim=1))\n",
    "#Define loss\n",
    "criterion = nn.NLLLoss()\n",
    "\n",
    "images,labels = next(iter(trainloader))\n",
    "\n",
    "#Flatten the image\n",
    "images = images.view(images.shape[0],-1)\n",
    "\n",
    "#fprward pass our network and get logits\n",
    "logits = model(images)\n",
    "\n",
    "#calculate the loss\n",
    "loss = criterion(logits,labels)\n",
    "print(logits.shape)\n",
    "print(\"---------------\")\n",
    "print(labels.shape)\n",
    "print(loss)"
   ]
  },
  {
   "cell_type": "markdown",
   "metadata": {},
   "source": [
    "# AutoGrad"
   ]
  },
  {
   "cell_type": "code",
   "execution_count": 76,
   "metadata": {},
   "outputs": [
    {
     "name": "stdout",
     "output_type": "stream",
     "text": [
      "tensor([0.], requires_grad=True)\n"
     ]
    }
   ],
   "source": [
    "x= torch.zeros(1,requires_grad=True)\n",
    "print(x)\n"
   ]
  },
  {
   "cell_type": "code",
   "execution_count": 96,
   "metadata": {},
   "outputs": [
    {
     "data": {
      "text/plain": [
       "tensor([[ 0.7348, -1.1828],\n",
       "        [ 0.3955, -1.0624]], requires_grad=True)"
      ]
     },
     "execution_count": 96,
     "metadata": {},
     "output_type": "execute_result"
    }
   ],
   "source": [
    "x= torch.randn(2,2)\n",
    "x.requires_grad_(True)"
   ]
  },
  {
   "cell_type": "code",
   "execution_count": 97,
   "metadata": {},
   "outputs": [
    {
     "name": "stdout",
     "output_type": "stream",
     "text": [
      "tensor([[0.5399, 1.3990],\n",
      "        [0.1564, 1.1288]], grad_fn=<PowBackward0>)\n",
      "<PowBackward0 object at 0x000002380270E548>\n"
     ]
    }
   ],
   "source": [
    "y= x**2\n",
    "\n",
    "print(y)\n",
    "print(y.grad_fn)"
   ]
  },
  {
   "cell_type": "code",
   "execution_count": 98,
   "metadata": {},
   "outputs": [
    {
     "name": "stdout",
     "output_type": "stream",
     "text": [
      "tensor(0.8060, grad_fn=<MeanBackward0>)\n"
     ]
    }
   ],
   "source": [
    "z = y.mean()\n",
    "print(z)"
   ]
  },
  {
   "cell_type": "code",
   "execution_count": 99,
   "metadata": {},
   "outputs": [
    {
     "name": "stdout",
     "output_type": "stream",
     "text": [
      "None\n"
     ]
    }
   ],
   "source": [
    "print(x.grad)"
   ]
  },
  {
   "cell_type": "code",
   "execution_count": 100,
   "metadata": {},
   "outputs": [
    {
     "name": "stdout",
     "output_type": "stream",
     "text": [
      "tensor([[ 0.3674, -0.5914],\n",
      "        [ 0.1978, -0.5312]])\n",
      "tensor([[ 0.3674, -0.5914],\n",
      "        [ 0.1978, -0.5312]], grad_fn=<DivBackward0>)\n"
     ]
    }
   ],
   "source": [
    "z.backward()\n",
    "print(x.grad)\n",
    "print(x/2)\n"
   ]
  },
  {
   "cell_type": "code",
   "execution_count": 107,
   "metadata": {},
   "outputs": [
    {
     "name": "stdout",
     "output_type": "stream",
     "text": [
      "torch.Size([64, 10])\n",
      "---------------\n",
      "torch.Size([64])\n",
      "tensor(2.2726, grad_fn=<NllLossBackward>)\n",
      "Before Backward pass\n",
      " None\n",
      "After backward pass\n",
      " tensor([[-0.0009, -0.0009, -0.0009,  ..., -0.0009, -0.0009, -0.0009],\n",
      "        [-0.0005, -0.0005, -0.0005,  ..., -0.0005, -0.0005, -0.0005],\n",
      "        [-0.0035, -0.0035, -0.0035,  ..., -0.0035, -0.0035, -0.0035],\n",
      "        ...,\n",
      "        [ 0.0000,  0.0000,  0.0000,  ...,  0.0000,  0.0000,  0.0000],\n",
      "        [ 0.0049,  0.0049,  0.0049,  ...,  0.0049,  0.0049,  0.0049],\n",
      "        [ 0.0044,  0.0044,  0.0044,  ...,  0.0044,  0.0044,  0.0044]])\n"
     ]
    }
   ],
   "source": [
    "model = nn.Sequential(nn.Linear(784,128),\n",
    "                    nn.ReLU(),\n",
    "                    nn.Linear(128,64),\n",
    "                    nn.ReLU(),\n",
    "                    nn.Linear(64,10),\n",
    "                    nn.LogSoftmax(dim=1))\n",
    "#Define loss\n",
    "criterion = nn.NLLLoss()\n",
    "\n",
    "images,labels = next(iter(trainloader))\n",
    "\n",
    "#Flatten the image\n",
    "images = images.view(images.shape[0],-1)\n",
    "\n",
    "#fprward pass our network and get logits\n",
    "logits = model(images)\n",
    "\n",
    "#calculate the loss\n",
    "loss = criterion(logits,labels)\n",
    "print(logits.shape)\n",
    "print(\"---------------\")\n",
    "print(labels.shape)\n",
    "print(loss)\n",
    "\n",
    "print ('Before Backward pass\\n',model[0].weight.grad)\n",
    "loss.backward()\n",
    "print('After backward pass\\n',model[0].weight.grad)"
   ]
  },
  {
   "cell_type": "raw",
   "metadata": {},
   "source": [
    "Optimizing the network"
   ]
  },
  {
   "cell_type": "code",
   "execution_count": 119,
   "metadata": {},
   "outputs": [
    {
     "name": "stdout",
     "output_type": "stream",
     "text": [
      "Initial weights-\n",
      " Parameter containing:\n",
      "tensor([[ 0.0273, -0.0140, -0.0253,  ..., -0.0129, -0.0178, -0.0237],\n",
      "        [-0.0006,  0.0055,  0.0041,  ..., -0.0134,  0.0280,  0.0235],\n",
      "        [ 0.0081,  0.0079,  0.0311,  ..., -0.0006,  0.0197, -0.0081],\n",
      "        ...,\n",
      "        [-0.0025,  0.0126, -0.0077,  ...,  0.0266,  0.0281,  0.0350],\n",
      "        [ 0.0258,  0.0084,  0.0082,  ...,  0.0332,  0.0084,  0.0015],\n",
      "        [-0.0131, -0.0152,  0.0336,  ..., -0.0264,  0.0239, -0.0336]],\n",
      "       requires_grad=True)\n",
      "gradient-\n",
      " tensor([[ 0.0006,  0.0006,  0.0006,  ...,  0.0006,  0.0006,  0.0006],\n",
      "        [ 0.0004,  0.0004,  0.0004,  ...,  0.0004,  0.0004,  0.0004],\n",
      "        [ 0.0009,  0.0009,  0.0009,  ...,  0.0009,  0.0009,  0.0009],\n",
      "        ...,\n",
      "        [ 0.0000,  0.0000,  0.0000,  ...,  0.0000,  0.0000,  0.0000],\n",
      "        [-0.0011, -0.0011, -0.0011,  ..., -0.0011, -0.0011, -0.0011],\n",
      "        [ 0.0023,  0.0023,  0.0023,  ...,  0.0023,  0.0023,  0.0023]])\n",
      "Update weights-\n",
      " Parameter containing:\n",
      "tensor([[ 0.0273, -0.0140, -0.0253,  ..., -0.0129, -0.0178, -0.0237],\n",
      "        [-0.0006,  0.0055,  0.0041,  ..., -0.0134,  0.0280,  0.0235],\n",
      "        [ 0.0081,  0.0079,  0.0311,  ..., -0.0006,  0.0197, -0.0081],\n",
      "        ...,\n",
      "        [-0.0025,  0.0126, -0.0077,  ...,  0.0266,  0.0281,  0.0350],\n",
      "        [ 0.0258,  0.0084,  0.0082,  ...,  0.0332,  0.0084,  0.0015],\n",
      "        [-0.0131, -0.0153,  0.0335,  ..., -0.0264,  0.0238, -0.0336]],\n",
      "       requires_grad=True)\n"
     ]
    }
   ],
   "source": [
    "from torch import optim\n",
    "optimizer = optim.SGD(model.parameters(),lr=0.01)\n",
    "print ('Initial weights-\\n',model[0].weight)\n",
    "images,labels = next(iter(trainloader))\n",
    "\n",
    "#Flatten the image\n",
    "images = images.view(images.shape[0],-1)\n",
    "optimizer.zero_grad()\n",
    "logits = model(images)\n",
    "\n",
    "#calculate the loss\n",
    "loss = criterion(logits,labels)\n",
    "loss.backward()\n",
    "print('gradient-\\n',model[0].weight.grad)\n",
    "optimizer.step()\n",
    "print('Update weights-\\n',model[0].weight)"
   ]
  },
  {
   "cell_type": "raw",
   "metadata": {},
   "source": [
    "Trainnig for real"
   ]
  },
  {
   "cell_type": "code",
   "execution_count": 153,
   "metadata": {},
   "outputs": [
    {
     "name": "stdout",
     "output_type": "stream",
     "text": [
      "Parameter containing:\n",
      "tensor([[ 0.0267,  0.0156, -0.0125,  ...,  0.0058,  0.0139, -0.0342],\n",
      "        [ 0.0009, -0.0074,  0.0087,  ..., -0.0018,  0.0315,  0.0125],\n",
      "        [ 0.0121, -0.0032, -0.0215,  ...,  0.0004, -0.0216, -0.0222],\n",
      "        ...,\n",
      "        [-0.0037, -0.0021,  0.0111,  ...,  0.0254, -0.0273,  0.0332],\n",
      "        [ 0.0143,  0.0031,  0.0059,  ...,  0.0142,  0.0174, -0.0081],\n",
      "        [-0.0004,  0.0068,  0.0064,  ..., -0.0092,  0.0100,  0.0250]],\n",
      "       requires_grad=True)\n",
      "2.0717034835551087\n",
      "1.2614632088746598\n",
      "0.7331522001322907\n",
      "0.5515544104105883\n",
      "0.4669113144246754\n",
      "0.4190296429211397\n",
      "0.38923701950545503\n",
      "Parameter containing:\n",
      "tensor([[ 0.0228,  0.0116, -0.0164,  ...,  0.0018,  0.0100, -0.0381],\n",
      "        [-0.0035, -0.0117,  0.0043,  ..., -0.0062,  0.0272,  0.0081],\n",
      "        [ 0.0123, -0.0030, -0.0213,  ...,  0.0006, -0.0214, -0.0220],\n",
      "        ...,\n",
      "        [-0.0092, -0.0076,  0.0056,  ...,  0.0199, -0.0328,  0.0277],\n",
      "        [ 0.0147,  0.0035,  0.0063,  ...,  0.0147,  0.0179, -0.0076],\n",
      "        [-0.0027,  0.0045,  0.0041,  ..., -0.0114,  0.0077,  0.0228]],\n",
      "       requires_grad=True)\n"
     ]
    }
   ],
   "source": [
    "model = nn.Sequential(nn.Linear(784,128),\n",
    "                    nn.ReLU(),\n",
    "                    nn.Linear(128,64),\n",
    "                    nn.ReLU(),\n",
    "                    nn.Linear(64,10),\n",
    "                    nn.LogSoftmax(dim=1))\n",
    "criterion = nn.NLLLoss()\n",
    "optimizer = optim.SGD(model.parameters(),lr= 0.002)\n",
    "\n",
    "epoch=7\n",
    "print(model[0].weight)\n",
    "for i in range(epoch):\n",
    "    running_loss=0\n",
    "    for images,labels in trainloader:\n",
    "        images = images.view(images.shape[0],-1)\n",
    "        optimizer.zero_grad()\n",
    "        logos = model(images)\n",
    "        loss = criterion(logos,labels)\n",
    "     \n",
    "        loss.backward()\n",
    "        optimizer.step()\n",
    "        running_loss+=loss.item()\n",
    "    print(running_loss/len(trainloader))\n",
    "print(model[0].weight)    "
   ]
  },
  {
   "cell_type": "code",
   "execution_count": 149,
   "metadata": {},
   "outputs": [
    {
     "name": "stdout",
     "output_type": "stream",
     "text": [
      "Parameter containing:\n",
      "tensor([[-0.0192,  0.0177,  0.0339,  ...,  0.0191,  0.0213,  0.0068],\n",
      "        [ 0.0341, -0.0254,  0.0227,  ..., -0.0350, -0.0312,  0.0108],\n",
      "        [-0.0043,  0.0315,  0.0096,  ..., -0.0233, -0.0128,  0.0182],\n",
      "        ...,\n",
      "        [-0.0276, -0.0172, -0.0311,  ...,  0.0183,  0.0295,  0.0157],\n",
      "        [ 0.0062,  0.0275,  0.0075,  ...,  0.0251, -0.0359,  0.0232],\n",
      "        [-0.0106, -0.0073, -0.0297,  ...,  0.0276,  0.0198,  0.0044]],\n",
      "       requires_grad=True)\n"
     ]
    },
    {
     "data": {
      "image/png": "[encoded data removed]",
      "text/plain": [
       "<Figure size 432x648 with 2 Axes>"
      ]
     },
     "metadata": {
      "image/png": {
       "height": 235,
       "width": 424
      },
      "needs_background": "light"
     },
     "output_type": "display_data"
    }
   ],
   "source": [
    "%matplotlib inline\n",
    "import helper\n",
    "img = images[8].view(1,784)\n",
    "with torch.no_grad():\n",
    "    logos=model(img)\n",
    "ps = torch.exp(logos)\n",
    "helper.view_classify(img.view(1,28,28),ps)\n",
    "print(model[0].weight)"
   ]
  }
 ],
 "metadata": {
  "kernelspec": {
   "display_name": "Python 3",
   "language": "python",
   "name": "python3"
  },
  "language_info": {
   "codemirror_mode": {
    "name": "ipython",
    "version": 3
   },
   "file_extension": ".py",
   "mimetype": "text/x-python",
   "name": "python",
   "nbconvert_exporter": "python",
   "pygments_lexer": "ipython3",
   "version": "3.7.4"
  }
 },
 "nbformat": 4,
 "nbformat_minor": 2
}
